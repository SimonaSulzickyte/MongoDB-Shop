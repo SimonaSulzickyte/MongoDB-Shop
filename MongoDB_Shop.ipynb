{
 "cells": [
  {
   "cell_type": "code",
   "execution_count": 37,
   "metadata": {},
   "outputs": [],
   "source": [
    "# Import libraries\n",
    "import pymongo\n",
    "import json\n",
    "from bson.code import Code"
   ]
  },
  {
   "cell_type": "code",
   "execution_count": 38,
   "metadata": {},
   "outputs": [],
   "source": [
    "# Define a class and functions to generate unique IDs\n",
    "class ID_Generator:\n",
    "    def __init__(self):\n",
    "        self.ids_generated = 0\n",
    "    \n",
    "    def generate_id(self):\n",
    "        self.ids_generated = self.ids_generated + 1 \n",
    "        return self.ids_generated   \n",
    "    \n",
    "ProductID_generator = ID_Generator()\n",
    "MerchantID_generator = ID_Generator()\n",
    "BuyerID_generator = ID_Generator()\n",
    "PurchaseID_generator = ID_Generator()\n",
    "\n",
    "def get_productID_number():\n",
    "    return ProductID_generator.generate_id()\n",
    "\n",
    "def get_merchantID_number():\n",
    "    return MerchantID_generator.generate_id()\n",
    "\n",
    "def get_buyerID_number():\n",
    "    return BuyerID_generator.generate_id()\n",
    "\n",
    "def get_purchaseID_number():\n",
    "    return PurchaseID_generator.generate_id()"
   ]
  },
  {
   "cell_type": "code",
   "execution_count": 39,
   "metadata": {},
   "outputs": [],
   "source": [
    "# Connect to MongoDB\n",
    "client = pymongo.MongoClient()\n",
    "# Create a database named \"Shop\"\n",
    "db = client[\"Shop\"]\n",
    "# Create collections within the database\n",
    "merchants = db[\"Merchants\"]\n",
    "merchants.drop()\n",
    "merchants = db[\"Merchants\"]\n",
    "buyers = db[\"Buyers\"]\n",
    "buyers.drop()\n",
    "buyers = db[\"Buyers\"]"
   ]
  },
  {
   "cell_type": "code",
   "execution_count": 40,
   "metadata": {},
   "outputs": [],
   "source": [
    "# Define a function which creates a new merchant entry in the \"Merchants\" collection\n",
    "def create_new_merchant(brandName, brandCountry):\n",
    "    new_merchantID = get_productID_number()\n",
    "    merchant = {'_id' : new_merchantID, \n",
    "                'brandName' : brandName,\n",
    "                'brandCountry' : brandCountry,\n",
    "                'products': []\n",
    "    }\n",
    "    merchants.insert_one(merchant) \n",
    "    print(\"Created a new merchant:\", merchant)\n",
    "    return new_merchantID"
   ]
  },
  {
   "cell_type": "code",
   "execution_count": 41,
   "metadata": {},
   "outputs": [
    {
     "name": "stdout",
     "output_type": "stream",
     "text": [
      "Created a new merchant: {'_id': 1, 'brandName': 'Gucci', 'brandCountry': 'Italy', 'products': []}\n",
      "Created a new merchant: {'_id': 2, 'brandName': 'Armani', 'brandCountry': 'Italy', 'products': []}\n",
      "Created a new merchant: {'_id': 3, 'brandName': 'Tommy Hilfiger', 'brandCountry': 'Netherlands', 'products': []}\n",
      "Created a new merchant: {'_id': 4, 'brandName': 'Zara', 'brandCountry': 'Spain', 'products': []}\n"
     ]
    }
   ],
   "source": [
    "# Create new merchants\n",
    "gucci_merchantID = create_new_merchant(\"Gucci\", \"Italy\")\n",
    "armani_merchantID = create_new_merchant(\"Armani\", \"Italy\")\n",
    "tommyhilfiger_merchantID = create_new_merchant(\"Tommy Hilfiger\", \"Netherlands\")\n",
    "zara_merchantID = create_new_merchant(\"Zara\", \"Spain\")"
   ]
  },
  {
   "cell_type": "code",
   "execution_count": 42,
   "metadata": {},
   "outputs": [],
   "source": [
    "# Define a function which creates a new product and updates the list of products for a specific merchant\n",
    "def create_new_product(productName, productDescription, productQuantity, merchantID, productMaterials, productPrice):\n",
    "    new_productID = get_productID_number()\n",
    "    \n",
    "    product = {'_id' : new_productID, \n",
    "               'productName' : productName, \n",
    "               'productDescription' : productDescription, \n",
    "               'productQuantity' : productQuantity,\n",
    "               'productMaterials' : productMaterials,   \n",
    "               'productPrice' : productPrice\n",
    "    }\n",
    "    \n",
    "    merchants.update_one({'_id':merchantID}, {'$push': {'products': product}}) \n",
    "    print(\"Created a new product:\", product)\n",
    "    return product"
   ]
  },
  {
   "cell_type": "code",
   "execution_count": 43,
   "metadata": {},
   "outputs": [
    {
     "name": "stdout",
     "output_type": "stream",
     "text": [
      "Created a new product: {'_id': 5, 'productName': 'Sweater', 'productDescription': 'Red', 'productQuantity': 1000, 'productMaterials': [{'wool': 0.55}, {'cotton': 0.3}, {'polyacrylic': 0.15}], 'productPrice': 430}\n",
      "Created a new product: {'_id': 6, 'productName': 'Sweater', 'productDescription': 'Blue', 'productQuantity': 900, 'productMaterials': [{'wool': 0.35}, {'cotton': 0.4}, {'polyacrylic': 0.25}], 'productPrice': 310}\n",
      "Created a new product: {'_id': 7, 'productName': 'Jacket', 'productDescription': 'Black', 'productQuantity': 80, 'productMaterials': [{'polyamide': 1}], 'productPrice': 1500}\n",
      "Created a new product: {'_id': 8, 'productName': 'Dress', 'productDescription': 'Dove grey', 'productQuantity': 150, 'productMaterials': [{'polyamide': 0.25}, {'elastane': 0.05}, {'viscose': 0.7}], 'productPrice': 890}\n",
      "Created a new product: {'_id': 9, 'productName': 'Jeans', 'productDescription': 'S', 'productQuantity': 100, 'productMaterials': [{'cotton': 0.85}, {'polyester': 0.13}, {'elastane': 0.02}], 'productPrice': 90.4}\n",
      "Created a new product: {'_id': 10, 'productName': 'Jeans', 'productDescription': 'M', 'productQuantity': 200, 'productMaterials': [{'cotton': 0.84}, {'polyester': 0.13}, {'elastane': 0.03}], 'productPrice': 82.5}\n",
      "Created a new product: {'_id': 11, 'productName': 'Jeans', 'productDescription': 'L', 'productQuantity': 100, 'productMaterials': [{'cotton': 0.84}, {'polyester': 0.14}, {'elastane': 0.02}], 'productPrice': 70.9}\n",
      "Created a new product: {'_id': 12, 'productName': 'Winter gloves', 'productDescription': 'White', 'productQuantity': 105, 'productMaterials': [{'viscose': 0.66}, {'polyamide': 0.34}], 'productPrice': 12.4}\n",
      "Created a new product: {'_id': 13, 'productName': 'Winter gloves', 'productDescription': 'Dark green', 'productQuantity': 200, 'productMaterials': [{'viscose': 0.66}, {'polyamide': 0.34}], 'productPrice': 8.55}\n"
     ]
    }
   ],
   "source": [
    "# Create new products\n",
    "gucci_products = [\n",
    "    create_new_product(\"Sweater\", \"Red\", 1000, gucci_merchantID, [{'wool': 0.55}, {'cotton' : 0.3}, {'polyacrylic' : 0.15}], 430),\n",
    "    create_new_product(\"Sweater\", \"Blue\", 900, gucci_merchantID, [{'wool': 0.35}, {'cotton' : 0.4}, {'polyacrylic' : 0.25}], 310)\n",
    "]\n",
    "armani_products = [\n",
    "    create_new_product(\"Jacket\", \"Black\", 80, armani_merchantID, [{'polyamide': 1}], 1500),\n",
    "    create_new_product(\"Dress\", \"Dove grey\", 150, armani_merchantID, [{'polyamide': 0.25}, {'elastane': 0.05}, {'viscose': 0.70}], 890)\n",
    "]\n",
    "tommyhilfiger_products = [\n",
    "     create_new_product(\"Jeans\", \"S\", 100, tommyhilfiger_merchantID, [{'cotton': 0.85}, {'polyester': 0.13}, {'elastane': 0.02}], 90.4),\n",
    "     create_new_product(\"Jeans\", \"M\", 200, tommyhilfiger_merchantID, [{'cotton': 0.84}, {'polyester': 0.13}, {'elastane': 0.03}], 82.5),\n",
    "     create_new_product(\"Jeans\", \"L\", 100, tommyhilfiger_merchantID, [{'cotton': 0.84}, {'polyester': 0.14}, {'elastane': 0.02}], 70.9)\n",
    "    \n",
    "]\n",
    "zara_products = [\n",
    "    create_new_product(\"Winter gloves\", \"White\", 105, zara_merchantID, [{'viscose': 0.66}, {'polyamide': 0.34}], 12.4),\n",
    "    create_new_product(\"Winter gloves\", \"Dark green\", 200, zara_merchantID, [{'viscose': 0.66}, {'polyamide': 0.34}], 8.55)\n",
    "]"
   ]
  },
  {
   "cell_type": "code",
   "execution_count": 44,
   "metadata": {},
   "outputs": [],
   "source": [
    "# Define a function which creates a new buyer entry in the \"Buyers\" collection\n",
    "def create_new_buyer(buyerName, buyerEmail):\n",
    "    new_buyerID = get_buyerID_number()\n",
    "    buyer = {'_id' : new_buyerID, \n",
    "               'buyerName' : buyerName, \n",
    "               'buyerEmail' : buyerEmail, \n",
    "               'purchases' : []}\n",
    "    buyers.insert_one(buyer) \n",
    "    print(\"Created a new buyer:\", buyer)\n",
    "    return new_buyerID"
   ]
  },
  {
   "cell_type": "code",
   "execution_count": 45,
   "metadata": {},
   "outputs": [
    {
     "name": "stdout",
     "output_type": "stream",
     "text": [
      "Created a new buyer: {'_id': 1, 'buyerName': 'Jonas Jonaitis', 'buyerEmail': 'jonas.jonaitis@gmail.com', 'purchases': []}\n",
      "Created a new buyer: {'_id': 2, 'buyerName': 'Petras Petraitis', 'buyerEmail': 'petras.petraitis@gmail.com', 'purchases': []}\n"
     ]
    }
   ],
   "source": [
    "# Create new buyers\n",
    "Jonas_Jonaitis_buyerID = create_new_buyer(\"Jonas Jonaitis\", \"jonas.jonaitis@gmail.com\")\n",
    "Petras_Petraitis_buyerID = create_new_buyer(\"Petras Petraitis\", \"petras.petraitis@gmail.com\")"
   ]
  },
  {
   "cell_type": "code",
   "execution_count": 46,
   "metadata": {},
   "outputs": [],
   "source": [
    "# Define a function which creates a new purchase and updates the list of purchases for a specific buyer\n",
    "def create_new_purchase(product, purchaseQuantity, buyerID):\n",
    "    new_purchaseID = get_purchaseID_number()\n",
    "    \n",
    "    purchase = {'_id' : new_purchaseID, \n",
    "               'product' : product,  \n",
    "               'purchaseQuantity' : purchaseQuantity\n",
    "    }\n",
    "    \n",
    "    buyers.update_one({'_id':buyerID}, {'$push': {'purchases': purchase}}) \n",
    "    print(\"Created a new purchase:\", purchase)"
   ]
  },
  {
   "cell_type": "code",
   "execution_count": 47,
   "metadata": {},
   "outputs": [
    {
     "name": "stdout",
     "output_type": "stream",
     "text": [
      "Created a new purchase: {'_id': 1, 'product': {'_id': 5, 'productName': 'Sweater', 'productDescription': 'Red', 'productQuantity': 1000, 'productMaterials': [{'wool': 0.55}, {'cotton': 0.3}, {'polyacrylic': 0.15}], 'productPrice': 430}, 'purchaseQuantity': 2}\n",
      "Created a new purchase: {'_id': 2, 'product': {'_id': 8, 'productName': 'Dress', 'productDescription': 'Dove grey', 'productQuantity': 150, 'productMaterials': [{'polyamide': 0.25}, {'elastane': 0.05}, {'viscose': 0.7}], 'productPrice': 890}, 'purchaseQuantity': 5}\n"
     ]
    }
   ],
   "source": [
    "create_new_purchase(gucci_products[0], 2, Jonas_Jonaitis_buyerID)\n",
    "create_new_purchase(armani_products[1], 5, Petras_Petraitis_buyerID)"
   ]
  },
  {
   "cell_type": "code",
   "execution_count": 48,
   "metadata": {},
   "outputs": [
    {
     "name": "stdout",
     "output_type": "stream",
     "text": [
      "Merchant  Gucci  is selling:\n",
      "         Sweater Red 1000\n",
      "         Sweater Blue 900\n",
      "Merchant  Armani  is selling:\n",
      "         Jacket Black 80\n",
      "         Dress Dove grey 150\n",
      "Merchant  Tommy Hilfiger  is selling:\n",
      "         Jeans S 100\n",
      "         Jeans M 200\n",
      "         Jeans L 100\n",
      "Merchant  Zara  is selling:\n",
      "         Winter gloves White 105\n",
      "         Winter gloves Dark green 200\n"
     ]
    }
   ],
   "source": [
    "# Define a function which displays information about all products being sold by merchants\n",
    "def get_all_products_being_sold():\n",
    "    all_merchants = merchants.find({})\n",
    "    for merchant in all_merchants:\n",
    "        merchant_products = merchant[\"products\"]\n",
    "        print(\"Merchant \", merchant[\"brandName\"], \" is selling:\")\n",
    "        if len(merchant_products) == 0:\n",
    "            print (\"        <No products>\")\n",
    "        else:\n",
    "            for product in merchant_products:\n",
    "                print(\"        \", product[\"productName\"], product[\"productDescription\"], product[\"productQuantity\"])\n",
    "    return\n",
    "    \n",
    "get_all_products_being_sold()"
   ]
  },
  {
   "cell_type": "code",
   "execution_count": 49,
   "metadata": {},
   "outputs": [
    {
     "name": "stdout",
     "output_type": "stream",
     "text": [
      "{'_id': 'Netherlands', 'totalNumberOfProducts': 3, 'totalNumberOfSalesVolumes': 32630.0}\n",
      "{'_id': 'Italy', 'totalNumberOfProducts': 4, 'totalNumberOfSalesVolumes': 962500}\n",
      "{'_id': 'Spain', 'totalNumberOfProducts': 2, 'totalNumberOfSalesVolumes': 3012.0}\n"
     ]
    }
   ],
   "source": [
    "# Define a function which aggregates information about the products being sold by country\n",
    "def get_all_products_being_sold_by_country():\n",
    "    unwind_rules = {\"$unwind\": \"$products\"}\n",
    "    aggregation_rules = {\n",
    "       \"$group\": {\n",
    "             \"_id\": \"$brandCountry\",\n",
    "             \"totalNumberOfProducts\": {\n",
    "                 \"$sum\": 1\n",
    "             }, \n",
    "             \"totalNumberOfSalesVolumes\": {\n",
    "                 \"$sum\": {\n",
    "                     \"$multiply\": [\"$products.productQuantity\", \"$products.productPrice\"]\n",
    "                }\n",
    "             },\n",
    "       }\n",
    "    }\n",
    "    aggregation_pipeline = [unwind_rules, aggregation_rules]\n",
    "    \n",
    "    aggregated_product_volumnes_by_country = merchants.aggregate(aggregation_pipeline)\n",
    "    for country_info in aggregated_product_volumnes_by_country:\n",
    "        print(country_info)\n",
    "get_all_products_being_sold_by_country()"
   ]
  }
 ],
 "metadata": {
  "kernelspec": {
   "display_name": "Python 3 (ipykernel)",
   "language": "python",
   "name": "python3"
  },
  "language_info": {
   "codemirror_mode": {
    "name": "ipython",
    "version": 3
   },
   "file_extension": ".py",
   "mimetype": "text/x-python",
   "name": "python",
   "nbconvert_exporter": "python",
   "pygments_lexer": "ipython3",
   "version": "3.10.7"
  }
 },
 "nbformat": 4,
 "nbformat_minor": 4
}
